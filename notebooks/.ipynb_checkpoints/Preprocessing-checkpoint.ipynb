{
 "cells": [
  {
   "cell_type": "markdown",
   "id": "22a082f2-3d3b-444a-a943-5d82239442c4",
   "metadata": {},
   "source": [
    "#### Import libraries"
   ]
  },
  {
   "cell_type": "code",
   "execution_count": 28,
   "id": "050a2ed6-9176-4f99-9168-43cccd41b351",
   "metadata": {},
   "outputs": [],
   "source": [
    "import pandas as pd\n",
    "import numpy as np\n",
    "from sklearn.model_selection import train_test_split\n",
    "from sklearn.preprocessing import OneHotEncoder, StandardScaler\n",
    "from sklearn.compose import ColumnTransformer\n",
    "import joblib"
   ]
  },
  {
   "cell_type": "markdown",
   "id": "8558708a-4d48-450e-903f-adb0e7c40ccf",
   "metadata": {},
   "source": [
    "#### Load Dataset"
   ]
  },
  {
   "cell_type": "code",
   "execution_count": 29,
   "id": "41b26868-35f7-4ac5-ad9b-d8e940507d19",
   "metadata": {},
   "outputs": [
    {
     "data": {
      "text/html": [
       "<div>\n",
       "<style scoped>\n",
       "    .dataframe tbody tr th:only-of-type {\n",
       "        vertical-align: middle;\n",
       "    }\n",
       "\n",
       "    .dataframe tbody tr th {\n",
       "        vertical-align: top;\n",
       "    }\n",
       "\n",
       "    .dataframe thead th {\n",
       "        text-align: right;\n",
       "    }\n",
       "</style>\n",
       "<table border=\"1\" class=\"dataframe\">\n",
       "  <thead>\n",
       "    <tr style=\"text-align: right;\">\n",
       "      <th></th>\n",
       "      <th>Employee_ID</th>\n",
       "      <th>Department</th>\n",
       "      <th>Gender</th>\n",
       "      <th>Age</th>\n",
       "      <th>Job_Title</th>\n",
       "      <th>Hire_Date</th>\n",
       "      <th>Years_At_Company</th>\n",
       "      <th>Education_Level</th>\n",
       "      <th>Performance_Score</th>\n",
       "      <th>Monthly_Salary</th>\n",
       "      <th>Work_Hours_Per_Week</th>\n",
       "      <th>Projects_Handled</th>\n",
       "      <th>Overtime_Hours</th>\n",
       "      <th>Sick_Days</th>\n",
       "      <th>Remote_Work_Frequency</th>\n",
       "      <th>Team_Size</th>\n",
       "      <th>Training_Hours</th>\n",
       "      <th>Promotions</th>\n",
       "      <th>Employee_Satisfaction_Score</th>\n",
       "      <th>Resigned</th>\n",
       "    </tr>\n",
       "  </thead>\n",
       "  <tbody>\n",
       "    <tr>\n",
       "      <th>0</th>\n",
       "      <td>1</td>\n",
       "      <td>IT</td>\n",
       "      <td>Male</td>\n",
       "      <td>55</td>\n",
       "      <td>Specialist</td>\n",
       "      <td>NaN</td>\n",
       "      <td>2.0</td>\n",
       "      <td>High School</td>\n",
       "      <td>5.0</td>\n",
       "      <td>6750.0</td>\n",
       "      <td>33</td>\n",
       "      <td>32.0</td>\n",
       "      <td>22.0</td>\n",
       "      <td>2</td>\n",
       "      <td>0.0</td>\n",
       "      <td>14.0</td>\n",
       "      <td>66.0</td>\n",
       "      <td>0</td>\n",
       "      <td>2.63</td>\n",
       "      <td>False</td>\n",
       "    </tr>\n",
       "    <tr>\n",
       "      <th>1</th>\n",
       "      <td>2</td>\n",
       "      <td>Finance</td>\n",
       "      <td>Male</td>\n",
       "      <td>29</td>\n",
       "      <td>Developer</td>\n",
       "      <td>2024-04-18 08:03:05.556036</td>\n",
       "      <td>0.0</td>\n",
       "      <td>High School</td>\n",
       "      <td>5.0</td>\n",
       "      <td>7500.0</td>\n",
       "      <td>34</td>\n",
       "      <td>34.0</td>\n",
       "      <td>13.0</td>\n",
       "      <td>14</td>\n",
       "      <td>100.0</td>\n",
       "      <td>12.0</td>\n",
       "      <td>61.0</td>\n",
       "      <td>2</td>\n",
       "      <td>1.72</td>\n",
       "      <td>False</td>\n",
       "    </tr>\n",
       "    <tr>\n",
       "      <th>2</th>\n",
       "      <td>3</td>\n",
       "      <td>Finance</td>\n",
       "      <td>Male</td>\n",
       "      <td>55</td>\n",
       "      <td>Specialist</td>\n",
       "      <td>NaN</td>\n",
       "      <td>8.0</td>\n",
       "      <td>High School</td>\n",
       "      <td>3.0</td>\n",
       "      <td>5850.0</td>\n",
       "      <td>37</td>\n",
       "      <td>27.0</td>\n",
       "      <td>6.0</td>\n",
       "      <td>3</td>\n",
       "      <td>50.0</td>\n",
       "      <td>10.0</td>\n",
       "      <td>1.0</td>\n",
       "      <td>0</td>\n",
       "      <td>3.17</td>\n",
       "      <td>False</td>\n",
       "    </tr>\n",
       "    <tr>\n",
       "      <th>3</th>\n",
       "      <td>4</td>\n",
       "      <td>Customer Support</td>\n",
       "      <td>Female</td>\n",
       "      <td>48</td>\n",
       "      <td>Analyst</td>\n",
       "      <td>2016-10-22 08:03:05.556036</td>\n",
       "      <td>7.0</td>\n",
       "      <td>Bachelor</td>\n",
       "      <td>2.0</td>\n",
       "      <td>4800.0</td>\n",
       "      <td>52</td>\n",
       "      <td>10.0</td>\n",
       "      <td>28.0</td>\n",
       "      <td>12</td>\n",
       "      <td>100.0</td>\n",
       "      <td>10.0</td>\n",
       "      <td>0.0</td>\n",
       "      <td>1</td>\n",
       "      <td>1.86</td>\n",
       "      <td>False</td>\n",
       "    </tr>\n",
       "    <tr>\n",
       "      <th>4</th>\n",
       "      <td>5</td>\n",
       "      <td>Engineering</td>\n",
       "      <td>Female</td>\n",
       "      <td>36</td>\n",
       "      <td>Analyst</td>\n",
       "      <td>2021-07-23 08:03:05.556036</td>\n",
       "      <td>3.0</td>\n",
       "      <td>Bachelor</td>\n",
       "      <td>2.0</td>\n",
       "      <td>4800.0</td>\n",
       "      <td>38</td>\n",
       "      <td>NaN</td>\n",
       "      <td>29.0</td>\n",
       "      <td>13</td>\n",
       "      <td>100.0</td>\n",
       "      <td>15.0</td>\n",
       "      <td>9.0</td>\n",
       "      <td>1</td>\n",
       "      <td>1.25</td>\n",
       "      <td>False</td>\n",
       "    </tr>\n",
       "  </tbody>\n",
       "</table>\n",
       "</div>"
      ],
      "text/plain": [
       "   Employee_ID        Department  Gender  Age   Job_Title  \\\n",
       "0            1                IT    Male   55  Specialist   \n",
       "1            2           Finance    Male   29   Developer   \n",
       "2            3           Finance    Male   55  Specialist   \n",
       "3            4  Customer Support  Female   48     Analyst   \n",
       "4            5       Engineering  Female   36     Analyst   \n",
       "\n",
       "                    Hire_Date  Years_At_Company Education_Level  \\\n",
       "0                         NaN               2.0     High School   \n",
       "1  2024-04-18 08:03:05.556036               0.0     High School   \n",
       "2                         NaN               8.0     High School   \n",
       "3  2016-10-22 08:03:05.556036               7.0        Bachelor   \n",
       "4  2021-07-23 08:03:05.556036               3.0        Bachelor   \n",
       "\n",
       "   Performance_Score  Monthly_Salary  Work_Hours_Per_Week  Projects_Handled  \\\n",
       "0                5.0          6750.0                   33              32.0   \n",
       "1                5.0          7500.0                   34              34.0   \n",
       "2                3.0          5850.0                   37              27.0   \n",
       "3                2.0          4800.0                   52              10.0   \n",
       "4                2.0          4800.0                   38               NaN   \n",
       "\n",
       "   Overtime_Hours  Sick_Days  Remote_Work_Frequency  Team_Size  \\\n",
       "0            22.0          2                    0.0       14.0   \n",
       "1            13.0         14                  100.0       12.0   \n",
       "2             6.0          3                   50.0       10.0   \n",
       "3            28.0         12                  100.0       10.0   \n",
       "4            29.0         13                  100.0       15.0   \n",
       "\n",
       "   Training_Hours  Promotions  Employee_Satisfaction_Score Resigned  \n",
       "0            66.0           0                         2.63    False  \n",
       "1            61.0           2                         1.72    False  \n",
       "2             1.0           0                         3.17    False  \n",
       "3             0.0           1                         1.86    False  \n",
       "4             9.0           1                         1.25    False  "
      ]
     },
     "execution_count": 29,
     "metadata": {},
     "output_type": "execute_result"
    }
   ],
   "source": [
    "df = pd.read_csv(\"../data/employee data_raw.csv\")\n",
    "df.head()"
   ]
  },
  {
   "cell_type": "code",
   "execution_count": 30,
   "id": "43a4de94-77e1-4f71-8eaa-148c5762af51",
   "metadata": {},
   "outputs": [
    {
     "name": "stdout",
     "output_type": "stream",
     "text": [
      "Initial shape: (100000, 20)\n"
     ]
    }
   ],
   "source": [
    "print(\"Initial shape:\", df.shape)"
   ]
  },
  {
   "cell_type": "code",
   "execution_count": 31,
   "id": "086627e0-3055-48e0-96d1-3640a4415c8b",
   "metadata": {},
   "outputs": [
    {
     "name": "stdout",
     "output_type": "stream",
     "text": [
      "<class 'pandas.core.frame.DataFrame'>\n",
      "RangeIndex: 100000 entries, 0 to 99999\n",
      "Data columns (total 20 columns):\n",
      " #   Column                       Non-Null Count   Dtype  \n",
      "---  ------                       --------------   -----  \n",
      " 0   Employee_ID                  100000 non-null  int64  \n",
      " 1   Department                   100000 non-null  object \n",
      " 2   Gender                       100000 non-null  object \n",
      " 3   Age                          100000 non-null  int64  \n",
      " 4   Job_Title                    100000 non-null  object \n",
      " 5   Hire_Date                    95871 non-null   object \n",
      " 6   Years_At_Company             97614 non-null   float64\n",
      " 7   Education_Level              96878 non-null   object \n",
      " 8   Performance_Score            95745 non-null   float64\n",
      " 9   Monthly_Salary               100000 non-null  float64\n",
      " 10  Work_Hours_Per_Week          100000 non-null  int64  \n",
      " 11  Projects_Handled             94629 non-null   float64\n",
      " 12  Overtime_Hours               97603 non-null   float64\n",
      " 13  Sick_Days                    100000 non-null  int64  \n",
      " 14  Remote_Work_Frequency        95970 non-null   float64\n",
      " 15  Team_Size                    97670 non-null   float64\n",
      " 16  Training_Hours               96130 non-null   float64\n",
      " 17  Promotions                   100000 non-null  int64  \n",
      " 18  Employee_Satisfaction_Score  100000 non-null  float64\n",
      " 19  Resigned                     98690 non-null   object \n",
      "dtypes: float64(9), int64(5), object(6)\n",
      "memory usage: 15.3+ MB\n"
     ]
    }
   ],
   "source": [
    "df.info()"
   ]
  },
  {
   "cell_type": "markdown",
   "id": "97a4a602-af1c-4a17-aee1-6eb6e71b3e3c",
   "metadata": {},
   "source": [
    "#### Drop Duplicates\n"
   ]
  },
  {
   "cell_type": "code",
   "execution_count": 32,
   "id": "8f9dbda3-2612-445e-97b2-c86cae616bea",
   "metadata": {},
   "outputs": [
    {
     "name": "stdout",
     "output_type": "stream",
     "text": [
      "Duplicate rows before: 0\n"
     ]
    }
   ],
   "source": [
    "# check for duplicates\n",
    "print(\"Duplicate rows before:\", df.duplicated().sum())"
   ]
  },
  {
   "cell_type": "markdown",
   "id": "83515a03-944f-4f02-822c-3af02d9e7376",
   "metadata": {},
   "source": [
    "There's no duplicated records"
   ]
  },
  {
   "cell_type": "markdown",
   "id": "ab02126f-a7c9-46b4-81a7-219481a81fcd",
   "metadata": {},
   "source": [
    "#### Drop rows with missing target"
   ]
  },
  {
   "cell_type": "code",
   "execution_count": 33,
   "id": "3b5e136e-4deb-4175-80f9-b85311bd51ef",
   "metadata": {},
   "outputs": [
    {
     "name": "stdout",
     "output_type": "stream",
     "text": [
      "After dropping missing target rows: (98690, 20)\n"
     ]
    }
   ],
   "source": [
    "df = df.dropna(subset=[\"Resigned\"])\n",
    "print(\"After dropping missing target rows:\", df.shape)"
   ]
  },
  {
   "cell_type": "markdown",
   "id": "f202bf81-7e48-4a09-95f7-63b8fac5088e",
   "metadata": {},
   "source": [
    "#### Convert target to numeric (True/False/Yes/No → 1/0)"
   ]
  },
  {
   "cell_type": "code",
   "execution_count": 34,
   "id": "079e6ae3-7f03-4d51-9829-61490fd3b838",
   "metadata": {},
   "outputs": [],
   "source": [
    "df[\"Resigned\"] = (\n",
    "    df[\"Resigned\"]\n",
    "    .astype(str)\n",
    "    .str.strip()\n",
    "    .str.lower()\n",
    "    .map({\"yes\": 1, \"true\": 1, \"1\": 1, \"no\": 0, \"false\": 0, \"0\": 0})\n",
    ")\n",
    "\n",
    "# Drop rows where mapping failed\n",
    "df = df.dropna(subset=[\"Resigned\"])\n",
    "\n",
    "# Convert to int\n",
    "df[\"Resigned\"] = df[\"Resigned\"].astype(int)"
   ]
  },
  {
   "cell_type": "markdown",
   "id": "9e10ad89-15d7-4886-bdd3-e42643496fe4",
   "metadata": {},
   "source": [
    "#### Drop irrelevant columns"
   ]
  },
  {
   "cell_type": "code",
   "execution_count": 35,
   "id": "8bd7f7c6-4a0e-4baf-b980-0715d2f64cee",
   "metadata": {},
   "outputs": [],
   "source": [
    "df.drop(columns=[\"Employee_ID\", \"Hire_Date\"], inplace=True, errors=\"ignore\")\n"
   ]
  },
  {
   "cell_type": "markdown",
   "id": "f448719e-53d0-4138-94a4-07c767eca57e",
   "metadata": {},
   "source": [
    "we drop Employrr_ID, because it is a unique identifier\n",
    "Hire_Date - Redundant Column"
   ]
  },
  {
   "cell_type": "code",
   "execution_count": 36,
   "id": "e3b1d078-a09d-47f1-9727-1af0905767ef",
   "metadata": {},
   "outputs": [
    {
     "data": {
      "text/plain": [
       "(98690, 18)"
      ]
     },
     "execution_count": 36,
     "metadata": {},
     "output_type": "execute_result"
    }
   ],
   "source": [
    "df.shape"
   ]
  },
  {
   "cell_type": "markdown",
   "id": "1b481c84-d0c2-43f2-8528-e750fc82b385",
   "metadata": {},
   "source": [
    "#### Handle missing values"
   ]
  },
  {
   "cell_type": "code",
   "execution_count": 37,
   "id": "1dfee420-1218-45e5-a5bf-1830215e07a2",
   "metadata": {},
   "outputs": [],
   "source": [
    "for col in df.columns:\n",
    "    if col != \"Resigned\":\n",
    "        if df[col].dtype in [\"int64\", \"float64\"]:\n",
    "            df[col] = df[col].fillna(df[col].median())\n",
    "        else:\n",
    "            df[col] = df[col].fillna(df[col].mode()[0])\n"
   ]
  },
  {
   "cell_type": "markdown",
   "id": "7130f5a0-d610-4a68-a7bc-1d2218ea19c1",
   "metadata": {},
   "source": [
    "In this step, we impute missing values based on the type of feature:\n",
    "\n",
    "- **Numerical features** → filled with the **median** of the column.  \n",
    "  - The median is chosen instead of the mean because it is more robust to outliers.  \n",
    "  - Example: If the `Age` column has missing values, they will be replaced with the median employee age.\n",
    "\n",
    "- **Categorical features** → filled with the **mode** (most frequently occurring value) of the column.  \n",
    "  - This ensures missing entries are replaced with the most common category.  \n",
    "  - Example: If the `Department` column has missing values, they will be filled with the department that appears most often (e.g., `\"Sales\"`).\n",
    "\n",
    "This strategy preserves the dataset size, avoids dropping rows, and provides sensible replacements that reduce bias.\n"
   ]
  },
  {
   "cell_type": "code",
   "execution_count": 38,
   "id": "ab1fc7e9-2da7-41ae-9dcd-83e79b16f5d7",
   "metadata": {},
   "outputs": [
    {
     "name": "stdout",
     "output_type": "stream",
     "text": [
      "\n",
      "Missing values per column:\n",
      " Department                     0\n",
      "Gender                         0\n",
      "Age                            0\n",
      "Job_Title                      0\n",
      "Years_At_Company               0\n",
      "Education_Level                0\n",
      "Performance_Score              0\n",
      "Monthly_Salary                 0\n",
      "Work_Hours_Per_Week            0\n",
      "Projects_Handled               0\n",
      "Overtime_Hours                 0\n",
      "Sick_Days                      0\n",
      "Remote_Work_Frequency          0\n",
      "Team_Size                      0\n",
      "Training_Hours                 0\n",
      "Promotions                     0\n",
      "Employee_Satisfaction_Score    0\n",
      "Resigned                       0\n",
      "dtype: int64\n"
     ]
    }
   ],
   "source": [
    "print(\"\\nMissing values per column:\\n\", df.isna().sum())"
   ]
  },
  {
   "cell_type": "markdown",
   "id": "d2cfa675-a8c2-45e6-82ea-a6a5dca7d9f7",
   "metadata": {},
   "source": [
    "So now we handled the missing values"
   ]
  },
  {
   "cell_type": "markdown",
   "id": "83156f0d-d70b-485f-b3d6-6dcc58130542",
   "metadata": {},
   "source": [
    "#### Split the data to features and Targets"
   ]
  },
  {
   "cell_type": "code",
   "execution_count": 39,
   "id": "42ff8338-8403-4850-8831-71b8a2cd9209",
   "metadata": {},
   "outputs": [],
   "source": [
    "X = df.drop(columns=[\"Resigned\"])\n",
    "y = df[\"Resigned\"]"
   ]
  },
  {
   "cell_type": "code",
   "execution_count": 40,
   "id": "62c0fa97-c1a4-4df7-ac15-c2684f030ae8",
   "metadata": {},
   "outputs": [],
   "source": [
    "X_train, X_test, y_train, y_test = train_test_split( X, y, test_size=0.2, random_state=42, stratify=y )"
   ]
  },
  {
   "cell_type": "code",
   "execution_count": 41,
   "id": "bc3ef9b2-f4e7-47a7-b8bd-a1cd34d7cd10",
   "metadata": {},
   "outputs": [
    {
     "name": "stdout",
     "output_type": "stream",
     "text": [
      "Train shape: (78952, 17) Test shape: (19738, 17)\n"
     ]
    }
   ],
   "source": [
    "print(\"Train shape:\", X_train.shape, \"Test shape:\", X_test.shape)"
   ]
  },
  {
   "cell_type": "markdown",
   "id": "be95c865-b222-4b13-b303-20b8f915d22c",
   "metadata": {},
   "source": [
    "#### Define preprocessing"
   ]
  },
  {
   "cell_type": "code",
   "execution_count": 42,
   "id": "87d70449-b390-4a39-9f6f-1e37dee3844f",
   "metadata": {},
   "outputs": [],
   "source": [
    "categorical_features = X.select_dtypes(include=[\"object\"]).columns.tolist() \n",
    "numerical_features = X.select_dtypes(include=[\"int64\", \"float64\"]).columns.tolist()"
   ]
  },
  {
   "cell_type": "code",
   "execution_count": 43,
   "id": "4b8df2d3-4142-442a-bd02-30bc98366ec7",
   "metadata": {},
   "outputs": [
    {
     "name": "stdout",
     "output_type": "stream",
     "text": [
      "Categorical features: ['Department', 'Gender', 'Job_Title', 'Education_Level']\n",
      "Numerical features: ['Age', 'Years_At_Company', 'Performance_Score', 'Monthly_Salary', 'Work_Hours_Per_Week', 'Projects_Handled', 'Overtime_Hours', 'Sick_Days', 'Remote_Work_Frequency', 'Team_Size', 'Training_Hours', 'Promotions', 'Employee_Satisfaction_Score']\n"
     ]
    }
   ],
   "source": [
    "print(\"Categorical features:\", categorical_features) \n",
    "print(\"Numerical features:\", numerical_features)"
   ]
  },
  {
   "cell_type": "markdown",
   "id": "2b214f70-772a-40d8-ad5b-4aaa95d05db2",
   "metadata": {},
   "source": [
    "##### Feature Transformation"
   ]
  },
  {
   "cell_type": "code",
   "execution_count": 44,
   "id": "0ebf3db9-930f-4f9f-a468-545baf14d907",
   "metadata": {},
   "outputs": [],
   "source": [
    "categorical_transformer = OneHotEncoder(handle_unknown=\"ignore\") \n",
    "numerical_transformer = StandardScaler()"
   ]
  },
  {
   "cell_type": "markdown",
   "id": "810c2c99-2d29-40b0-97c9-384b3ee24807",
   "metadata": {},
   "source": [
    "\n",
    "- **Categorical features** → encoded using `OneHotEncoder(handle_unknown=\"ignore\")`.  \n",
    "  - Converts text categories (e.g., \"HR\", \"Finance\") into binary columns.  \n",
    "  - `handle_unknown=\"ignore\"` ensures that unseen categories in new data won’t break the model.\n",
    "\n",
    "- **Numerical features** → scaled using `StandardScaler()`.  \n",
    "  - Transforms values to have mean = 0 and standard deviation = 1.  \n",
    "  - Ensures all numeric features are on the same scale, which helps many models converge better.\n"
   ]
  },
  {
   "cell_type": "code",
   "execution_count": 45,
   "id": "bf444327-5c16-4085-905d-86d68258f022",
   "metadata": {},
   "outputs": [],
   "source": [
    "preprocessor = ColumnTransformer(\n",
    "    transformers=[\n",
    "        (\"num\", numerical_transformer, numerical_features),\n",
    "        (\"cat\", categorical_transformer, categorical_features)\n",
    "    ]\n",
    ")"
   ]
  },
  {
   "cell_type": "markdown",
   "id": "41ff8116-90d6-4489-a0e7-78b57922d258",
   "metadata": {},
   "source": [
    "The `ColumnTransformer` applies different transformations to different feature types:\n",
    "\n",
    "- **`(\"num\", numerical_transformer, numerical_features)`**  \n",
    "  → Applies `StandardScaler` to all numerical columns.\n",
    "\n",
    "- **`(\"cat\", categorical_transformer, categorical_features)`**  \n",
    "  → Applies `OneHotEncoder` to all categorical columns."
   ]
  },
  {
   "cell_type": "markdown",
   "id": "58d27261-6a6d-4736-919c-02d7bdbaf868",
   "metadata": {},
   "source": [
    "#### Save artifacts"
   ]
  },
  {
   "cell_type": "code",
   "execution_count": 46,
   "id": "43ae5664-5015-4188-bf90-5c8eda53a6a9",
   "metadata": {},
   "outputs": [
    {
     "data": {
      "text/plain": [
       "['splits.pkl']"
      ]
     },
     "execution_count": 46,
     "metadata": {},
     "output_type": "execute_result"
    }
   ],
   "source": [
    "joblib.dump(preprocessor, \"preprocessor.pkl\") \n",
    "joblib.dump((X_train, X_test, y_train, y_test), \"splits.pkl\")"
   ]
  },
  {
   "cell_type": "markdown",
   "id": "e82267b2-1c1c-44b1-a6f3-bdc1650a5c27",
   "metadata": {},
   "source": [
    "\n",
    "- **preprocessor.pkl** → stores the preprocessing pipeline (scaling + encoding).  \n",
    "- **splits.pkl** → stores the raw train/test splits (X_train, X_test, y_train, y_test).  \n"
   ]
  },
  {
   "cell_type": "code",
   "execution_count": null,
   "id": "d834f452-2c53-48dd-8d3e-74919d5f5383",
   "metadata": {},
   "outputs": [],
   "source": []
  }
 ],
 "metadata": {
  "kernelspec": {
   "display_name": "Python 3 (ipykernel)",
   "language": "python",
   "name": "python3"
  },
  "language_info": {
   "codemirror_mode": {
    "name": "ipython",
    "version": 3
   },
   "file_extension": ".py",
   "mimetype": "text/x-python",
   "name": "python",
   "nbconvert_exporter": "python",
   "pygments_lexer": "ipython3",
   "version": "3.13.7"
  }
 },
 "nbformat": 4,
 "nbformat_minor": 5
}
