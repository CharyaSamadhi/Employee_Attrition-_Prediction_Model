{
 "cells": [
  {
   "cell_type": "code",
   "execution_count": 2,
   "id": "d18a5e3c-e426-44a4-b6cc-3e6e26f0852c",
   "metadata": {},
   "outputs": [],
   "source": [
    "import numpy as np\n",
    "import pandas as pd\n",
    "import joblib\n",
    "import matplotlib.pyplot as plt\n",
    "\n",
    "\n",
    "from sklearn.model_selection import train_test_split\n",
    "from imblearn.over_sampling import SMOTE\n",
    "\n",
    "from sklearn.linear_model import LogisticRegression\n",
    "from sklearn.ensemble import RandomForestClassifier, GradientBoostingClassifier\n",
    "from xgboost import XGBClassifier\n",
    "\n",
    "from sklearn.metrics import (\n",
    "    accuracy_score, precision_score, recall_score, f1_score,\n",
    "    roc_auc_score, average_precision_score, balanced_accuracy_score,\n",
    "    classification_report, confusion_matrix, precision_recall_curve\n",
    ")\n",
    "\n",
    "RANDOM_STATE = 42"
   ]
  },
  {
   "cell_type": "code",
   "execution_count": 3,
   "id": "211cb347-555d-4b2e-a173-e26f88d30692",
   "metadata": {},
   "outputs": [],
   "source": [
    "#Loading the pre-saved artifacts\n",
    "preprocessor = joblib.load(\"preprocessor.pkl\")\n",
    "X_train, X_test, y_train, y_test = joblib.load(\"splits.pkl\")\n",
    "\n",
    "#Preprocessing\n",
    "X_train_proc = preprocessor.fit_transform(X_train)\n",
    "X_test_proc  = preprocessor.transform(X_test)\n",
    "\n",
    "#Making a smale validation split\n",
    "X_tr, X_val, y_tr, y_val = train_test_split(\n",
    "    X_train_proc, y_train, test_size=0.2, random_state=RANDOM_STATE, stratify=y_train\n",
    ")\n",
    "\n",
    "#Balancing with SMOTE-\n",
    "sm = SMOTE(random_state=RANDOM_STATE)\n",
    "X_tr_res, y_tr_res = sm.fit_resample(X_tr, y_tr)"
   ]
  },
  {
   "cell_type": "code",
   "execution_count": 4,
   "id": "b95dc352-e2f8-4250-9e7c-5a69224321ca",
   "metadata": {},
   "outputs": [],
   "source": [
    "#Helper function to fix the imbalances when evaluating by giving a threshold\n",
    "def evaluate_with_threshold(model, name):\n",
    "    \"\"\"\n",
    "    1) Fit on resampled train\n",
    "    2) Use validation probabilities to pick threshold that maximizes F1\n",
    "    3) Evaluate on test with that threshold\n",
    "    4) Return metrics dict and chosen threshold\n",
    "    \"\"\"\n",
    "    model.fit(X_tr_res, y_tr_res)\n",
    "\n",
    "    # --- choose threshold on validation by maximizing F1 ---\n",
    "    val_proba = model.predict_proba(X_val)[:, 1]\n",
    "    precisions, recalls, thresholds = precision_recall_curve(y_val, val_proba)\n",
    "    f1s = (2 * precisions * recalls) / (precisions + recalls + 1e-9)\n",
    "    # last element of precisions/recalls has no corresponding threshold\n",
    "    best_idx = np.argmax(f1s[:-1])\n",
    "    best_thr = float(thresholds[best_idx])\n",
    "\n",
    "    # --- evaluate on test at tuned threshold ---\n",
    "    test_proba = model.predict_proba(X_test_proc)[:, 1]\n",
    "    y_pred = (test_proba >= best_thr).astype(int)\n",
    "\n",
    "    acc   = accuracy_score(y_test, y_pred)\n",
    "    bal   = balanced_accuracy_score(y_test, y_pred)\n",
    "    prec  = precision_score(y_test, y_pred, zero_division=0)\n",
    "    rec   = recall_score(y_test, y_pred, zero_division=0)\n",
    "    f1    = f1_score(y_test, y_pred, zero_division=0)\n",
    "    roc   = roc_auc_score(y_test, test_proba)\n",
    "    prauc = average_precision_score(y_test, test_proba)  # PR-AUC\n",
    "\n",
    "    print(f\"\\n=== {name} ===\")\n",
    "    print(f\"Tuned threshold (on validation): {best_thr:.3f}\")\n",
    "    print(classification_report(y_test, y_pred, zero_division=0))\n",
    "    print(\"Confusion Matrix:\\n\", confusion_matrix(y_test, y_pred))\n",
    "\n",
    "    return {\n",
    "        \"Model\": name,\n",
    "        \"Threshold\": best_thr,\n",
    "        \"Accuracy\": acc,\n",
    "        \"Balanced_Acc\": bal,\n",
    "        \"Precision\": prec,\n",
    "        \"Recall\": rec,\n",
    "        \"F1\": f1,\n",
    "        \"ROC_AUC\": roc,\n",
    "        \"PR_AUC\": prauc\n",
    "    }\n",
    "\n",
    "results = []"
   ]
  },
  {
   "cell_type": "code",
   "execution_count": 5,
   "id": "73f0f22c-7579-46d8-afff-722cf00f57b9",
   "metadata": {},
   "outputs": [
    {
     "name": "stdout",
     "output_type": "stream",
     "text": [
      "\n",
      "=== Logistic Regression ===\n",
      "Tuned threshold (on validation): 0.456\n",
      "              precision    recall  f1-score   support\n",
      "\n",
      "           0       0.90      0.08      0.15     17762\n",
      "           1       0.10      0.92      0.18      1976\n",
      "\n",
      "    accuracy                           0.17     19738\n",
      "   macro avg       0.50      0.50      0.17     19738\n",
      "weighted avg       0.82      0.17      0.15     19738\n",
      "\n",
      "Confusion Matrix:\n",
      " [[ 1464 16298]\n",
      " [  163  1813]]\n"
     ]
    }
   ],
   "source": [
    "#Logistic Regression-1\n",
    "log_reg = LogisticRegression(max_iter=1000, random_state=RANDOM_STATE)\n",
    "results.append(evaluate_with_threshold(log_reg, \"Logistic Regression\"))\n"
   ]
  },
  {
   "cell_type": "code",
   "execution_count": 6,
   "id": "b0f97b8a-0a42-49dd-8fc2-f9b208cebf61",
   "metadata": {},
   "outputs": [
    {
     "name": "stdout",
     "output_type": "stream",
     "text": [
      "\n",
      "=== Random Forest ===\n",
      "Tuned threshold (on validation): 0.053\n",
      "              precision    recall  f1-score   support\n",
      "\n",
      "           0       0.90      0.01      0.02     17762\n",
      "           1       0.10      0.99      0.18      1976\n",
      "\n",
      "    accuracy                           0.11     19738\n",
      "   macro avg       0.50      0.50      0.10     19738\n",
      "weighted avg       0.82      0.11      0.04     19738\n",
      "\n",
      "Confusion Matrix:\n",
      " [[  192 17570]\n",
      " [   22  1954]]\n"
     ]
    }
   ],
   "source": [
    "#Random Forest-2\n",
    "rf = RandomForestClassifier(\n",
    "    n_estimators=300,\n",
    "    random_state=RANDOM_STATE,\n",
    "    n_jobs=-1\n",
    ")\n",
    "results.append(evaluate_with_threshold(rf, \"Random Forest\"))"
   ]
  },
  {
   "cell_type": "code",
   "execution_count": 7,
   "id": "ab861e13-9858-4ddb-bb7b-a24c139b068a",
   "metadata": {},
   "outputs": [
    {
     "name": "stdout",
     "output_type": "stream",
     "text": [
      "\n",
      "=== Gradient Boosting ===\n",
      "Tuned threshold (on validation): 0.104\n",
      "              precision    recall  f1-score   support\n",
      "\n",
      "           0       0.94      0.00      0.00     17762\n",
      "           1       0.10      1.00      0.18      1976\n",
      "\n",
      "    accuracy                           0.10     19738\n",
      "   macro avg       0.52      0.50      0.09     19738\n",
      "weighted avg       0.86      0.10      0.02     19738\n",
      "\n",
      "Confusion Matrix:\n",
      " [[   33 17729]\n",
      " [    2  1974]]\n"
     ]
    }
   ],
   "source": [
    "#Gradient Boosting-3\n",
    "gb = GradientBoostingClassifier(random_state=RANDOM_STATE)\n",
    "results.append(evaluate_with_threshold(gb, \"Gradient Boosting\"))"
   ]
  },
  {
   "cell_type": "code",
   "execution_count": 8,
   "id": "efe53cbd-f40b-4174-bb84-27c35c683235",
   "metadata": {},
   "outputs": [
    {
     "name": "stdout",
     "output_type": "stream",
     "text": [
      "\n",
      "=== XGBoost ===\n",
      "Tuned threshold (on validation): 0.064\n",
      "              precision    recall  f1-score   support\n",
      "\n",
      "           0       0.90      0.03      0.06     17762\n",
      "           1       0.10      0.97      0.18      1976\n",
      "\n",
      "    accuracy                           0.13     19738\n",
      "   macro avg       0.50      0.50      0.12     19738\n",
      "weighted avg       0.82      0.13      0.07     19738\n",
      "\n",
      "Confusion Matrix:\n",
      " [[  558 17204]\n",
      " [   59  1917]]\n"
     ]
    }
   ],
   "source": [
    "#XGBoost-4\n",
    "xgb = XGBClassifier(\n",
    "    n_estimators=300,\n",
    "    learning_rate=0.1,\n",
    "    max_depth=4,\n",
    "    subsample=0.8,\n",
    "    colsample_bytree=0.8,\n",
    "    eval_metric=\"logloss\",\n",
    "    random_state=RANDOM_STATE\n",
    ")\n",
    "results.append(evaluate_with_threshold(xgb, \"XGBoost\"))\n"
   ]
  },
  {
   "cell_type": "code",
   "execution_count": 9,
   "id": "4b5da5a5-7af4-4476-b3fe-3e7bdc4b492f",
   "metadata": {},
   "outputs": [
    {
     "name": "stdout",
     "output_type": "stream",
     "text": [
      "\n",
      "=== Model Comparison ===\n",
      "                      Accuracy  Balanced_Acc  Precision    Recall        F1  \\\n",
      "Model                                                                        \n",
      "Logistic Regression  0.166025      0.499967   0.100105  0.917510  0.180515   \n",
      "Random Forest        0.108724      0.499838   0.100082  0.988866  0.181767   \n",
      "Gradient Boosting    0.101682      0.500423   0.100188  0.998988  0.182112   \n",
      "XGBoost              0.125393      0.500779   0.100256  0.970142  0.181732   \n",
      "\n",
      "                      ROC_AUC    PR_AUC  Threshold  \n",
      "Model                                               \n",
      "Logistic Regression  0.503961  0.100116   0.456019  \n",
      "Random Forest        0.517835  0.107183   0.053333  \n",
      "Gradient Boosting    0.498903  0.100586   0.103571  \n",
      "XGBoost              0.514242  0.104913   0.063814  \n"
     ]
    }
   ],
   "source": [
    "#Compare & pick best by PR-AUC - Good for imbalanced datasets\n",
    "results_df = pd.DataFrame(results).set_index(\"Model\")\n",
    "print(\"\\n=== Model Comparison ===\\n\", results_df[[\n",
    "    \"Accuracy\",\"Balanced_Acc\",\"Precision\",\"Recall\",\"F1\",\"ROC_AUC\",\"PR_AUC\",\"Threshold\"\n",
    "]])"
   ]
  },
  {
   "cell_type": "code",
   "execution_count": 10,
   "id": "27da8c30-8559-45f3-a871-fedf77ff35d2",
   "metadata": {},
   "outputs": [
    {
     "data": {
      "image/png": "[encoded data removed]",
      "text/plain": [
       "<Figure size 1000x600 with 1 Axes>"
      ]
     },
     "metadata": {},
     "output_type": "display_data"
    }
   ],
   "source": [
    "# Pick only the most useful metrics to avoid clutter\n",
    "metrics_to_plot = [\"F1\", \"ROC_AUC\", \"PR_AUC\"]\n",
    "\n",
    "plt.figure(figsize=(10,6))\n",
    "\n",
    "for i, metric in enumerate(metrics_to_plot):\n",
    "    plt.plot(results_df.index, results_df[metric], marker='o', label=metric)\n",
    "\n",
    "plt.title(\"Model Comparison\")\n",
    "plt.xlabel(\"Model\")\n",
    "plt.ylabel(\"Score\")\n",
    "plt.legend()\n",
    "plt.grid(True)\n",
    "plt.tight_layout()\n",
    "plt.show()"
   ]
  },
  {
   "cell_type": "code",
   "execution_count": 11,
   "id": "f705c36f-92c4-4ffe-8c25-90444b9d8ef1",
   "metadata": {},
   "outputs": [
    {
     "name": "stdout",
     "output_type": "stream",
     "text": [
      "\n",
      "Best model by PR-AUC: Random Forest\n"
     ]
    }
   ],
   "source": [
    "# Pick the best by PR-AUC \n",
    "best_by_prauc = results_df[\"PR_AUC\"].idxmax()\n",
    "print(f\"\\nBest model by PR-AUC: {best_by_prauc}\")"
   ]
  },
  {
   "cell_type": "code",
   "execution_count": 12,
   "id": "394f67f1-a782-431f-bd1b-028187d6f013",
   "metadata": {},
   "outputs": [
    {
     "data": {
      "text/plain": [
       "['random_forest.pkl']"
      ]
     },
     "execution_count": 12,
     "metadata": {},
     "output_type": "execute_result"
    }
   ],
   "source": [
    "# Save the selected model\n",
    "joblib.dump(rf, \"random_forest.pkl\", compress=3)"
   ]
  },
  {
   "cell_type": "code",
   "execution_count": null,
   "id": "ce4d52d7-b92e-44be-b105-b49ea45361d5",
   "metadata": {},
   "outputs": [],
   "source": []
  }
 ],
 "metadata": {
  "kernelspec": {
   "display_name": "Python 3 (ipykernel)",
   "language": "python",
   "name": "python3"
  },
  "language_info": {
   "codemirror_mode": {
    "name": "ipython",
    "version": 3
   },
   "file_extension": ".py",
   "mimetype": "text/x-python",
   "name": "python",
   "nbconvert_exporter": "python",
   "pygments_lexer": "ipython3",
   "version": "3.13.3"
  }
 },
 "nbformat": 4,
 "nbformat_minor": 5
}
